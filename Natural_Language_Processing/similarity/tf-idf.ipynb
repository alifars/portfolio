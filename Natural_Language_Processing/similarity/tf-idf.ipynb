{
 "cells": [
  {
   "cell_type": "code",
   "execution_count": 7,
   "metadata": {
    "collapsed": true
   },
   "outputs": [],
   "source": [
    "document_0 = \"China has a strong economy that is growing at a rapid pace. However politically it differs greatly from the US Economy.\"\n",
    "document_1 = \"At last, China seems serious about confronting an endemic problem: domestic violence and corruption.\"\n",
    "document_2 = \"Japan's prime minister, Shinzo Abe, is working towards healing the economic turmoil in his own country for his view on the future of his people.\"\n",
    "document_3 = \"Vladimir Putin is working hard to fix the economy in Russia as the Ruble has tumbled.\"\n",
    "document_4 = \"What's the future of Abenomics? We asked Shinzo Abe for his views\"\n",
    "document_5 = \"Obama has eased sanctions on Cuba while accelerating those against the Russian Economy, even as the Ruble's value falls almost daily.\"\n",
    "document_6 = \"Vladimir Putin is riding a horse while hunting deer. Vladimir Putin always seems so serious about things - even riding horses. Is he crazy?\"\n"
   ]
  },
  {
   "cell_type": "code",
   "execution_count": 8,
   "metadata": {},
   "outputs": [],
   "source": [
    "from sklearn.feature_extraction.text import TfidfVectorizer"
   ]
  },
  {
   "cell_type": "code",
   "execution_count": 30,
   "metadata": {},
   "outputs": [],
   "source": [
    "tf_idf_vectorizer = TfidfVectorizer(tokenizer= lambda x: x.lower().split(\" \"), use_idf= True)"
   ]
  },
  {
   "cell_type": "code",
   "execution_count": 31,
   "metadata": {},
   "outputs": [],
   "source": [
    "all_documents = [document_0, document_1, document_2, document_3, document_4, document_5, document_6]"
   ]
  },
  {
   "cell_type": "code",
   "execution_count": 32,
   "metadata": {},
   "outputs": [],
   "source": [
    "tf_idf_matrix =  tf_idf_vectorizer.fit_transform(all_documents)"
   ]
  },
  {
   "cell_type": "code",
   "execution_count": 44,
   "metadata": {},
   "outputs": [
    {
     "data": {
      "text/plain": [
       "<7x94 sparse matrix of type '<type 'numpy.float64'>'\n\twith 123 stored elements in Compressed Sparse Row format>"
      ]
     },
     "execution_count": 44,
     "metadata": {},
     "output_type": "execute_result"
    },
    {
     "name": "stdout",
     "output_type": "stream",
     "text": [
      "\n"
     ]
    }
   ],
   "source": [
    "tf_idf_matrix\n"
   ]
  },
  {
   "cell_type": "code",
   "execution_count": 45,
   "metadata": {},
   "outputs": [],
   "source": [
    ""
   ]
  },
  {
   "cell_type": "markdown",
   "metadata": {},
   "source": [
    "cosine similarity"
   ]
  },
  {
   "cell_type": "code",
   "execution_count": 45,
   "metadata": {},
   "outputs": [],
   "source": [
    "import math\n",
    "def cosine_similarity(vector1, vector2):\n",
    "    dot_product = sum([v1 * v2 for v1,v2 in  zip(vector1, vector2)])\n",
    "    v1_length =  math.sqrt(sum([v1**2 for v1 in vector1]))\n",
    "    v2_length =  math.sqrt(sum([v2**2 for v2 in vector1]))\n",
    "    return dot_product / (v1_length * v2_length)"
   ]
  },
  {
   "cell_type": "code",
   "execution_count": 47,
   "metadata": {},
   "outputs": [
    {
     "name": "stdout",
     "output_type": "stream",
     "text": [
      "0 0\n0 1\n0 2\n0 3\n0 4\n0 5\n0 6\n1 0\n1 1\n1 2\n1 3\n1 4\n1 5\n1 6\n2 0\n2 1\n2 2\n2 3\n2 4\n2 5\n2 6\n3 0\n3 1\n3 2\n3 3\n3 4\n3 5\n3 6\n4 0\n4 1\n4 2\n4 3\n4 4\n4 5\n4 6\n5 0\n5 1\n5 2\n5 3\n5 4\n5 5\n5 6\n6 0\n6 1\n6 2\n6 3\n6 4\n6 5\n6 6\n"
     ]
    }
   ],
   "source": [
    "for count_0, doc_0 in enumerate(tf_idf_matrix):\n",
    "    for count_1, doc_1 in enumerate(tf_idf_matrix):\n",
    "              \n",
    "       # print  cosine_similarity(doc_0, doc_1)\n",
    "        print count_0, count_1"
   ]
  },
  {
   "cell_type": "code",
   "execution_count": null,
   "metadata": {},
   "outputs": [],
   "source": []
  }
 ],
 "metadata": {
  "kernelspec": {
   "display_name": "Python 2",
   "language": "python",
   "name": "python2"
  },
  "language_info": {
   "codemirror_mode": {
    "name": "ipython",
    "version": 2
   },
   "file_extension": ".py",
   "mimetype": "text/x-python",
   "name": "python",
   "nbconvert_exporter": "python",
   "pygments_lexer": "ipython2",
   "version": "2.7.6"
  }
 },
 "nbformat": 4,
 "nbformat_minor": 0
}
