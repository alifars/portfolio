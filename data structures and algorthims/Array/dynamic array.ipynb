{
 "cells": [
  {
   "cell_type": "code",
   "execution_count": 2,
   "metadata": {},
   "outputs": [
    {
     "name": "stdout",
     "output_type": "stream",
     "text": [
      "length:   0; size in bytes:   64 \n",
      "length:   1; size in bytes:   96 \n",
      "length:   2; size in bytes:   96 \n",
      "length:   3; size in bytes:   96 \n",
      "length:   4; size in bytes:   96 \n",
      "length:   5; size in bytes:  128 \n",
      "length:   6; size in bytes:  128 \n",
      "length:   7; size in bytes:  128 \n",
      "length:   8; size in bytes:  128 \n",
      "length:   9; size in bytes:  192 \n",
      "length:  10; size in bytes:  192 \n",
      "length:  11; size in bytes:  192 \n",
      "length:  12; size in bytes:  192 \n",
      "length:  13; size in bytes:  192 \n",
      "length:  14; size in bytes:  192 \n",
      "length:  15; size in bytes:  192 \n",
      "length:  16; size in bytes:  192 \n",
      "length:  17; size in bytes:  264 \n",
      "length:  18; size in bytes:  264 \n",
      "length:  19; size in bytes:  264 \n",
      "length:  20; size in bytes:  264 \n",
      "length:  21; size in bytes:  264 \n",
      "length:  22; size in bytes:  264 \n",
      "length:  23; size in bytes:  264 \n",
      "length:  24; size in bytes:  264 \n",
      "length:  25; size in bytes:  264 \n",
      "length:  26; size in bytes:  344 \n",
      "length:  27; size in bytes:  344 \n",
      "length:  28; size in bytes:  344 \n",
      "length:  29; size in bytes:  344 \n",
      "length:  30; size in bytes:  344 \n",
      "length:  31; size in bytes:  344 \n",
      "length:  32; size in bytes:  344 \n",
      "length:  33; size in bytes:  344 \n",
      "length:  34; size in bytes:  344 \n",
      "length:  35; size in bytes:  344 \n",
      "length:  36; size in bytes:  432 \n",
      "length:  37; size in bytes:  432 \n",
      "length:  38; size in bytes:  432 \n",
      "length:  39; size in bytes:  432 \n",
      "length:  40; size in bytes:  432 \n",
      "length:  41; size in bytes:  432 \n",
      "length:  42; size in bytes:  432 \n",
      "length:  43; size in bytes:  432 \n",
      "length:  44; size in bytes:  432 \n",
      "length:  45; size in bytes:  432 \n",
      "length:  46; size in bytes:  432 \n",
      "length:  47; size in bytes:  528 \n",
      "length:  48; size in bytes:  528 \n",
      "length:  49; size in bytes:  528 \n"
     ]
    }
   ],
   "source": [
    "import sys\n",
    "\n",
    "n = 50\n",
    "data = []\n",
    "for i in range(n):\n",
    "    a = len(data)\n",
    "    b = sys.getsizeof(data)\n",
    "    print \"length: {0:3d}; size in bytes: {1:4d} \".format(a,b)\n",
    "    data.append(n)"
   ]
  },
  {
   "cell_type": "code",
   "execution_count": null,
   "metadata": {
    "collapsed": true
   },
   "outputs": [],
   "source": []
  },
  {
   "cell_type": "code",
   "execution_count": null,
   "metadata": {
    "collapsed": true
   },
   "outputs": [],
   "source": []
  }
 ],
 "metadata": {
  "kernelspec": {
   "display_name": "Python 2",
   "language": "python",
   "name": "python2"
  },
  "language_info": {
   "codemirror_mode": {
    "name": "ipython",
    "version": 2
   },
   "file_extension": ".py",
   "mimetype": "text/x-python",
   "name": "python",
   "nbconvert_exporter": "python",
   "pygments_lexer": "ipython2",
   "version": "2.7"
  }
 },
 "nbformat": 4,
 "nbformat_minor": 2
}
